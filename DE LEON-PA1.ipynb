{
 "cells": [
  {
   "cell_type": "markdown",
   "id": "9d62f0e8-549b-480e-9a5c-7799b6a8f73e",
   "metadata": {},
   "source": [
    "## EXPERIMENT 1: Introduction to Phyton Programming\n",
    "\n",
    "DE LEON, Maria Nichole Lexanie C.\n",
    "2ECE-C"
   ]
  },
  {
   "cell_type": "markdown",
   "id": "62a63a18-eb87-4786-9a8e-6e491c217e8c",
   "metadata": {},
   "source": [
    "### ALPHABET SOUP PROBLEM"
   ]
  },
  {
   "cell_type": "code",
   "execution_count": 28,
   "id": "bd61a67c-1a50-468a-a885-78186863f866",
   "metadata": {},
   "outputs": [
    {
     "name": "stdout",
     "output_type": "stream",
     "text": [
      "ehllo\n",
      "cehilno\n",
      "eeeggiinnnr\n",
      "stu\n"
     ]
    }
   ],
   "source": [
    "def alphabet_soup(s):\n",
    "    # Convert string to a list\n",
    "    word = sorted (s)\n",
    "\n",
    "    # Sort the list\n",
    "    word.sort()\n",
    "\n",
    "   # Convert the sorted list into string again\n",
    "    arrangedword = ''.join(word)\n",
    "\n",
    "\n",
    "    return arrangedword\n",
    "\n",
    "print(alphabet_soup(\"hello\"))\n",
    "print(alphabet_soup(\"nichole\"))\n",
    "print(alphabet_soup(\"engineering\"))\n",
    "print(alphabet_soup(\"ust\"))"
   ]
  },
  {
   "cell_type": "markdown",
   "id": "b6e857e7-b32e-4165-94e7-2a33985f120c",
   "metadata": {},
   "source": [
    "## EMOTICON PROBLEM"
   ]
  },
  {
   "cell_type": "code",
   "execution_count": 51,
   "id": "6c1629f1-92e9-4573-a3c1-9a699f743795",
   "metadata": {},
   "outputs": [
    {
     "name": "stdout",
     "output_type": "stream",
     "text": [
      "I like to : ) with you.\n",
      "She had a big :D on her face.\n",
      "I am sad.\n",
      "I am >:( at you.\n"
     ]
    }
   ],
   "source": [
    "def emotify(sentence):\n",
    "\n",
    "   # Define the emotify to use\n",
    "   emotify = {\n",
    "       \"smile\" : \": )\",\n",
    "       \"grin\" : \":D\",\n",
    "       \"sad\": \": ((\",\n",
    "       \"mad\": \">:(\"\n",
    "   }\n",
    "\n",
    "   # Convert into sentences with emoticons\n",
    "   for word in sentence.split():\n",
    "        if word in emotify:\n",
    "            sentence = sentence.replace(word, emotify[word])\n",
    "\n",
    "   return sentence\n",
    "\n",
    "print(emotify(\"I like to smile with you.\"))\n",
    "print(emotify(\"She had a big grin on her face.\"))\n",
    "print(emotify(\"I am sad.\"))\n",
    "print(emotify(\"I am mad at you.\"))"
   ]
  },
  {
   "cell_type": "markdown",
   "id": "7672227e-f115-47ed-9bde-2c9d4785cb5c",
   "metadata": {},
   "source": [
    "## UNPACKING LIST PROBLEM"
   ]
  },
  {
   "cell_type": "code",
   "execution_count": 60,
   "id": "4e868de4-f29f-4186-9fe3-aae297071ab9",
   "metadata": {},
   "outputs": [
    {
     "name": "stdout",
     "output_type": "stream",
     "text": [
      "first: 3\n",
      "middle: [6, 9, 12, 15, 18, 21, 24, 27]\n",
      "last: 30\n"
     ]
    }
   ],
   "source": [
    "def unpack(writeyourcodehere):\n",
    "\n",
    "    # Unpack the list into three variables\n",
    "    first = writeyourcodehere[0]\n",
    "    middle = writeyourcodehere[1:-1]\n",
    "    last = writeyourcodehere[-1]\n",
    "\n",
    "   # Print the variables\n",
    "    print(f\"first: {first}\")\n",
    "    print(f\"middle: {middle}\")\n",
    "    print(f\"last: {last}\")\n",
    "\n",
    "writeyourcodehere = [3, 6, 9, 12, 15, 18, 21, 24, 27, 30]\n",
    "unpack(writeyourcodehere)"
   ]
  },
  {
   "cell_type": "code",
   "execution_count": null,
   "id": "92aa85d0-986d-4d31-9f7a-3d4806fe3641",
   "metadata": {},
   "outputs": [],
   "source": []
  }
 ],
 "metadata": {
  "kernelspec": {
   "display_name": "Python 3 (ipykernel)",
   "language": "python",
   "name": "python3"
  },
  "language_info": {
   "codemirror_mode": {
    "name": "ipython",
    "version": 3
   },
   "file_extension": ".py",
   "mimetype": "text/x-python",
   "name": "python",
   "nbconvert_exporter": "python",
   "pygments_lexer": "ipython3",
   "version": "3.12.4"
  }
 },
 "nbformat": 4,
 "nbformat_minor": 5
}
